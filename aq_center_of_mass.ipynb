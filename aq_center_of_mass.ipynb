{
 "cells": [
  {
   "cell_type": "code",
   "execution_count": null,
   "metadata": {},
   "outputs": [],
   "source": [
    "# this note book finds center of mass of AQ"
   ]
  },
  {
   "cell_type": "code",
   "execution_count": 1,
   "metadata": {},
   "outputs": [],
   "source": [
    "import json\n",
    "from pprint import pprint\n",
    "from scipy.ndimage import center_of_mass\n",
    "import cv2\n",
    "from translate_colors import TranslateColors"
   ]
  },
  {
   "cell_type": "code",
   "execution_count": 2,
   "metadata": {},
   "outputs": [
    {
     "name": "stdout",
     "output_type": "stream",
     "text": [
      "{83: (5115.337739590218, 7355.5),\n",
      " 84: (5206.688230081366, 7355.5),\n",
      " 85: (5060.8107210626185, 7355.5),\n",
      " 86: (4904.095176571921, 7355.5),\n",
      " 87: (4966.495912806539, 7355.5),\n",
      " 88: (4785.516771364229, 7355.5),\n",
      " 89: (4680.216093366093, 7355.5),\n",
      " 90: (4757.039418507129, 7355.5),\n",
      " 91: (4757.962697771105, 7355.5),\n",
      " 92: (4874.804657335907, 7355.5),\n",
      " 93: (4705.114317019723, 7355.5),\n",
      " 94: (4726.280021160289, 7355.5),\n",
      " 95: (4627.231905279893, 7355.5),\n",
      " 96: (4471.6246333007375, 7355.5),\n",
      " 97: (4291.233942711898, 7355.5),\n",
      " 98: (4411.41844370537, 7355.5),\n",
      " 99: (4271.917937122812, 7355.499999999985),\n",
      " 100: (4094.8858009847704, 7355.499999999983),\n",
      " 101: (4194.450594813403, 7355.499999999985),\n",
      " 102: (4057.515199814271, 7355.499999999988),\n",
      " 103: (4041.754992752576, 7355.500000000017),\n",
      " 104: (3733.1303147377516, 7355.500000000005)}\n"
     ]
    }
   ],
   "source": [
    "# SC/AQ: ara 83 ~ 104\n",
    "center_of_masses = {}\n",
    "codec = TranslateColors()\n",
    "aq_index = TranslateColors.colorstring_to_index(codec.regiontorgb('AQ'))\n",
    "for ara_level in range(83, 105):\n",
    "    atlas_tiff_name = 'ARA-Coronal-{}_full_labels-01-append.tif'.format(str(ara_level).zfill(3))\n",
    "    atlas = cv2.imread('sc_atlas/{}'.format(atlas_tiff_name), -1)\n",
    "    atlas = TranslateColors.rgbatlas_to_indexatlas(atlas)\n",
    "    atlas[atlas != aq_index] = 0 \n",
    "    center_of_masses[ara_level] = center_of_mass(atlas)\n",
    "pprint(center_of_masses)    \n",
    "with open('aq_center_of_masses.json', 'w') as f:\n",
    "    json.dump(center_of_masses, f)    "
   ]
  },
  {
   "cell_type": "code",
   "execution_count": null,
   "metadata": {},
   "outputs": [],
   "source": []
  }
 ],
 "metadata": {
  "kernelspec": {
   "display_name": "Python 3",
   "language": "python",
   "name": "python3"
  },
  "language_info": {
   "codemirror_mode": {
    "name": "ipython",
    "version": 3
   },
   "file_extension": ".py",
   "mimetype": "text/x-python",
   "name": "python",
   "nbconvert_exporter": "python",
   "pygments_lexer": "ipython3",
   "version": "3.7.6"
  }
 },
 "nbformat": 4,
 "nbformat_minor": 4
}
