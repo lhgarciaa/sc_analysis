{
 "cells": [
  {
   "cell_type": "code",
   "execution_count": null,
   "metadata": {},
   "outputs": [],
   "source": [
    "# this notebook loads and cleans nora's original sheet 'ctx_sc_cases.csv'\n",
    "# the resulting dataframe is written to ''ctx_sc_cases_clean.csv'"
   ]
  },
  {
   "cell_type": "code",
   "execution_count": 62,
   "metadata": {},
   "outputs": [],
   "source": [
    "import os\n",
    "import re\n",
    "import pandas as pd\n",
    "import matplotlib.pyplot as plt\n",
    "import seaborn as sns\n",
    "from translate_colors import TranslateColors\n",
    "%matplotlib inline"
   ]
  },
  {
   "cell_type": "code",
   "execution_count": 66,
   "metadata": {},
   "outputs": [],
   "source": [
    "# read csv file and clean dataframe\n",
    "df = pd.read_csv('ctx_sc_cases_06102020.csv', quotechar='\\\"', skipinitialspace=True, skiprows=4)\n",
    "# strip space in column names\n",
    "df.columns = df.columns.str.strip()\n",
    "# remove all asterisk character\n",
    "for column in df.columns:\n",
    "    try:\n",
    "        df[column] = df[column].str.replace('\\*', '').str.strip()\n",
    "    except AttributeError:\n",
    "        pass  \n",
    "# drop rows where case id is NA or does not match case ID pattern\n",
    "# not enforcing case id ends with pattern due to such entries: SW121031-03B/A\n",
    "df = df.loc[df['Case ID'].notna() & df['Case ID'].str.match('[A-Z]{2}[0-9]{6}-[0-9]{2}[A-D]')].reset_index()\n",
    "# for actual injection site, split the secondary information.\n",
    "# e.g. in VISp (med), med is secondary\n",
    "df['Actual Anatomical/ Injection Site Secondary'] = \\\n",
    "    df['Actual Anatomical/ Injection Site'].str.split().str.get(1).str.replace('[()]', '')\n",
    "df['Actual Anatomical/ Injection Site'] = df['Actual Anatomical/ Injection Site'].str.split().str.get(0)\n",
    "# SSp_tr is semantically the same as SSp-tr\n",
    "df.loc[df['Actual Anatomical/ Injection Site'] == 'SSp_tr', 'Actual Anatomical/ Injection Site'] = 'SSp-tr'\n",
    "# split tracer and channel number\n",
    "df_tracer_channel = df['Tracers/Channel'].str.split('/', expand=True)\n",
    "df_tracer_channel.columns = ['Tracers', 'Channel']\n",
    "# make tracer lower case. remove leading numbered list characters. replace aav-tdtom as aav-tdtomato\n",
    "df_tracer_channel['Tracers'] = df_tracer_channel['Tracers'].str.strip().str.lower().str.replace('[0-9]\\.[ ]*', '').str.replace('tdtom$', 'tdtomato')\n",
    "# remove leading Ch in channel number\n",
    "df_tracer_channel['Channel'] = df_tracer_channel['Channel'].str.strip().str.lower().str.replace('ch', '')\n",
    "df = pd.concat([df, df_tracer_channel], axis=1).reset_index()\n",
    "# retain only useful columns\n",
    "relevant_columns = ['Case ID', 'Tracers', 'Channel', 'Cortex name with regional identifier', 'Actual Anatomical/ Injection Site', \n",
    "                    'Layer (injection site)', 'Injection Site center ARA level (c)', 'ML (X)', 'AP (Y)', 'DV (Z)', 'Nissl Quality', \n",
    "                    'Notes on SC labeling', 'Case path (vsi files)', 'Case Path (Thresholded Files)', 'Case path (osp files)', \n",
    "                    'Actual Anatomical/ Injection Site Secondary']\n",
    "df = df[relevant_columns]\n",
    "# modify file paths to linux system\n",
    "for path_column in ['Case path (vsi files)', 'Case Path (Thresholded Files)', 'Case path (osp files)']:\n",
    "    df[path_column] = df[path_column].str.replace('\\\\', '/').str.replace('Z:', '/ifs/loni/faculty/dong/mcp')    \n",
    "# if both 'Case Path (Thresholded Files)', 'Case path (osp files)' are missing values, drop rows\n",
    "df = df.loc[df['Case path (osp files)'].notna() | df['Case Path (Thresholded Files)'].notna(), :]\n",
    "# if 'Case Path (Thresholded Files)' is missing, fill with 'Case path (osp files)'\n",
    "df['Case Path (Thresholded Files)'] = df['Case Path (Thresholded Files)'].fillna((df['Case path (osp files)'] + '/threshold/channels/').str.cat(others=df['Channel']))\n",
    "# if 'Case Path (osp files)' is missing, fill with 'Case path (Thresholded Files)'\n",
    "df['Case path (osp files)'] = df['Case path (osp files)'].fillna(df['Case Path (Thresholded Files)'].str.replace('/threshold/channels/[0-5]', ''))"
   ]
  },
  {
   "cell_type": "code",
   "execution_count": 67,
   "metadata": {},
   "outputs": [],
   "source": [
    "# check case id in index match case id in osp file path\n",
    "case_ids = df['Case ID'].apply(lambda x: re.match('[A-Z]{2}[0-9]{6}-[0-9]{2}[A-D]', x).group(0))\n",
    "osp_case_ids = df['Case path (osp files)'].str.split('/').str[-1].str.replace('SC_study_', '')\n",
    "matches = case_ids == osp_case_ids\n",
    "# remove inconsistent rows\n",
    "if not matches.all():\n",
    "    print('dropping \\\"Case ID\\\" inconsistent with \\\"Case path (osp files)\\\": {}'.format(df.loc[~matches.values, :]['Case ID'].values))\n",
    "df = df.loc[matches, :]"
   ]
  },
  {
   "cell_type": "code",
   "execution_count": 68,
   "metadata": {},
   "outputs": [],
   "source": [
    "# check threshold directory is valid combination of osp dir and channel number\n",
    "expected_threshold_dirs = df['Case path (osp files)'] + '/threshold/channels/' + df['Channel']\n",
    "matches = expected_threshold_dirs == df['Case Path (Thresholded Files)']\n",
    "# remove inconsistent rows\n",
    "if not matches.all():\n",
    "    print('dropping \\\"Case ID\\\" with inconsistent \\\"Channel\\\" and \\\"Case Path (Thresholded Files)\\\": {}'.format(df.loc[~matches.values, :]['Case ID'].values))\n",
    "df = df.loc[matches, :]    "
   ]
  },
  {
   "cell_type": "code",
   "execution_count": 69,
   "metadata": {},
   "outputs": [
    {
     "data": {
      "text/html": [
       "<div>\n",
       "<style scoped>\n",
       "    .dataframe tbody tr th:only-of-type {\n",
       "        vertical-align: middle;\n",
       "    }\n",
       "\n",
       "    .dataframe tbody tr th {\n",
       "        vertical-align: top;\n",
       "    }\n",
       "\n",
       "    .dataframe thead th {\n",
       "        text-align: right;\n",
       "    }\n",
       "</style>\n",
       "<table border=\"1\" class=\"dataframe\">\n",
       "  <thead>\n",
       "    <tr style=\"text-align: right;\">\n",
       "      <th></th>\n",
       "      <th></th>\n",
       "      <th>Tracers</th>\n",
       "      <th>Cortex name with regional identifier</th>\n",
       "      <th>Actual Anatomical/ Injection Site</th>\n",
       "      <th>Layer (injection site)</th>\n",
       "      <th>Injection Site center ARA level (c)</th>\n",
       "      <th>ML (X)</th>\n",
       "      <th>AP (Y)</th>\n",
       "      <th>DV (Z)</th>\n",
       "      <th>Nissl Quality</th>\n",
       "      <th>Notes on SC labeling</th>\n",
       "      <th>Case path (vsi files)</th>\n",
       "      <th>Case Path (Thresholded Files)</th>\n",
       "      <th>Case path (osp files)</th>\n",
       "      <th>Actual Anatomical/ Injection Site Secondary</th>\n",
       "    </tr>\n",
       "    <tr>\n",
       "      <th>Case ID</th>\n",
       "      <th>Channel</th>\n",
       "      <th></th>\n",
       "      <th></th>\n",
       "      <th></th>\n",
       "      <th></th>\n",
       "      <th></th>\n",
       "      <th></th>\n",
       "      <th></th>\n",
       "      <th></th>\n",
       "      <th></th>\n",
       "      <th></th>\n",
       "      <th></th>\n",
       "      <th></th>\n",
       "      <th></th>\n",
       "      <th></th>\n",
       "    </tr>\n",
       "  </thead>\n",
       "  <tbody>\n",
       "    <tr>\n",
       "      <th rowspan=\"2\" valign=\"top\">SW121221-02A</th>\n",
       "      <th>2</th>\n",
       "      <td>phal-488</td>\n",
       "      <td>VISp caudomed</td>\n",
       "      <td>VISp</td>\n",
       "      <td>5</td>\n",
       "      <td>96</td>\n",
       "      <td>2.50</td>\n",
       "      <td>-4.28</td>\n",
       "      <td>-1.00</td>\n",
       "      <td>NaN</td>\n",
       "      <td>NaN</td>\n",
       "      <td>/ifs/loni/faculty/dong/mcp/Scans/CTX/ORB AUD V...</td>\n",
       "      <td>/ifs/loni/faculty/dong/mcp/Neda/ConnectionLens...</td>\n",
       "      <td>/ifs/loni/faculty/dong/mcp/Neda/ConnectionLens...</td>\n",
       "      <td>med</td>\n",
       "    </tr>\n",
       "    <tr>\n",
       "      <th>4</th>\n",
       "      <td>bda</td>\n",
       "      <td>VISp caudolat</td>\n",
       "      <td>VISp</td>\n",
       "      <td>5</td>\n",
       "      <td>96</td>\n",
       "      <td>2.75</td>\n",
       "      <td>-4.28</td>\n",
       "      <td>-1.25</td>\n",
       "      <td>NaN</td>\n",
       "      <td>NaN</td>\n",
       "      <td>/ifs/loni/faculty/dong/mcp/Scans/CTX/ORB AUD V...</td>\n",
       "      <td>/ifs/loni/faculty/dong/mcp/Neda/ConnectionLens...</td>\n",
       "      <td>/ifs/loni/faculty/dong/mcp/Neda/ConnectionLens...</td>\n",
       "      <td>center</td>\n",
       "    </tr>\n",
       "    <tr>\n",
       "      <th rowspan=\"2\" valign=\"top\">SW121221-03A</th>\n",
       "      <th>2</th>\n",
       "      <td>phal-488</td>\n",
       "      <td>VISp rostral</td>\n",
       "      <td>VISp</td>\n",
       "      <td>6</td>\n",
       "      <td>86</td>\n",
       "      <td>5.00</td>\n",
       "      <td>-3.28</td>\n",
       "      <td>-1.75</td>\n",
       "      <td>NaN</td>\n",
       "      <td>NaN</td>\n",
       "      <td>/ifs/loni/faculty/dong/mcp/Scans/CTX/ORB AUD V...</td>\n",
       "      <td>/ifs/loni/faculty/dong/mcp/Neda/ConnectionLens...</td>\n",
       "      <td>/ifs/loni/faculty/dong/mcp/Neda/ConnectionLens...</td>\n",
       "      <td>med</td>\n",
       "    </tr>\n",
       "    <tr>\n",
       "      <th>4</th>\n",
       "      <td>bda</td>\n",
       "      <td>VISp caudal</td>\n",
       "      <td>VISp</td>\n",
       "      <td>5</td>\n",
       "      <td>94 (95)</td>\n",
       "      <td>1.80</td>\n",
       "      <td>-4.12</td>\n",
       "      <td>-0.75</td>\n",
       "      <td>NaN</td>\n",
       "      <td>NaN</td>\n",
       "      <td>/ifs/loni/faculty/dong/mcp/Scans/CTX/ORB AUD V...</td>\n",
       "      <td>/ifs/loni/faculty/dong/mcp/Neda/ConnectionLens...</td>\n",
       "      <td>/ifs/loni/faculty/dong/mcp/Neda/ConnectionLens...</td>\n",
       "      <td>med</td>\n",
       "    </tr>\n",
       "    <tr>\n",
       "      <th>SW151215-03A</th>\n",
       "      <th>3</th>\n",
       "      <td>aav-tdtomato</td>\n",
       "      <td>PTLp lat</td>\n",
       "      <td>PTLp</td>\n",
       "      <td>5</td>\n",
       "      <td>80, 82, 84</td>\n",
       "      <td>3.60</td>\n",
       "      <td>-2.88</td>\n",
       "      <td>-1.75</td>\n",
       "      <td>NaN</td>\n",
       "      <td>NaN</td>\n",
       "      <td>/ifs/loni/faculty/dong/mcp/Scans/CP+CTX/SW1512...</td>\n",
       "      <td>/ifs/loni/faculty/dong/mcp/Neda/ConnectionLens...</td>\n",
       "      <td>/ifs/loni/faculty/dong/mcp/Neda/ConnectionLens...</td>\n",
       "      <td>NaN</td>\n",
       "    </tr>\n",
       "  </tbody>\n",
       "</table>\n",
       "</div>"
      ],
      "text/plain": [
       "                           Tracers Cortex name with regional identifier  \\\n",
       "Case ID      Channel                                                      \n",
       "SW121221-02A 2            phal-488                        VISp caudomed   \n",
       "             4                 bda                        VISp caudolat   \n",
       "SW121221-03A 2            phal-488                         VISp rostral   \n",
       "             4                 bda                          VISp caudal   \n",
       "SW151215-03A 3        aav-tdtomato                             PTLp lat   \n",
       "\n",
       "                     Actual Anatomical/ Injection Site Layer (injection site)  \\\n",
       "Case ID      Channel                                                            \n",
       "SW121221-02A 2                                    VISp                      5   \n",
       "             4                                    VISp                      5   \n",
       "SW121221-03A 2                                    VISp                      6   \n",
       "             4                                    VISp                      5   \n",
       "SW151215-03A 3                                    PTLp                      5   \n",
       "\n",
       "                     Injection Site center ARA level (c)  ML (X)  AP (Y)  \\\n",
       "Case ID      Channel                                                       \n",
       "SW121221-02A 2                                        96    2.50   -4.28   \n",
       "             4                                        96    2.75   -4.28   \n",
       "SW121221-03A 2                                        86    5.00   -3.28   \n",
       "             4                                   94 (95)    1.80   -4.12   \n",
       "SW151215-03A 3                                80, 82, 84    3.60   -2.88   \n",
       "\n",
       "                      DV (Z) Nissl Quality Notes on SC labeling  \\\n",
       "Case ID      Channel                                              \n",
       "SW121221-02A 2         -1.00           NaN                  NaN   \n",
       "             4         -1.25           NaN                  NaN   \n",
       "SW121221-03A 2         -1.75           NaN                  NaN   \n",
       "             4         -0.75           NaN                  NaN   \n",
       "SW151215-03A 3         -1.75           NaN                  NaN   \n",
       "\n",
       "                                                  Case path (vsi files)  \\\n",
       "Case ID      Channel                                                      \n",
       "SW121221-02A 2        /ifs/loni/faculty/dong/mcp/Scans/CTX/ORB AUD V...   \n",
       "             4        /ifs/loni/faculty/dong/mcp/Scans/CTX/ORB AUD V...   \n",
       "SW121221-03A 2        /ifs/loni/faculty/dong/mcp/Scans/CTX/ORB AUD V...   \n",
       "             4        /ifs/loni/faculty/dong/mcp/Scans/CTX/ORB AUD V...   \n",
       "SW151215-03A 3        /ifs/loni/faculty/dong/mcp/Scans/CP+CTX/SW1512...   \n",
       "\n",
       "                                          Case Path (Thresholded Files)  \\\n",
       "Case ID      Channel                                                      \n",
       "SW121221-02A 2        /ifs/loni/faculty/dong/mcp/Neda/ConnectionLens...   \n",
       "             4        /ifs/loni/faculty/dong/mcp/Neda/ConnectionLens...   \n",
       "SW121221-03A 2        /ifs/loni/faculty/dong/mcp/Neda/ConnectionLens...   \n",
       "             4        /ifs/loni/faculty/dong/mcp/Neda/ConnectionLens...   \n",
       "SW151215-03A 3        /ifs/loni/faculty/dong/mcp/Neda/ConnectionLens...   \n",
       "\n",
       "                                                  Case path (osp files)  \\\n",
       "Case ID      Channel                                                      \n",
       "SW121221-02A 2        /ifs/loni/faculty/dong/mcp/Neda/ConnectionLens...   \n",
       "             4        /ifs/loni/faculty/dong/mcp/Neda/ConnectionLens...   \n",
       "SW121221-03A 2        /ifs/loni/faculty/dong/mcp/Neda/ConnectionLens...   \n",
       "             4        /ifs/loni/faculty/dong/mcp/Neda/ConnectionLens...   \n",
       "SW151215-03A 3        /ifs/loni/faculty/dong/mcp/Neda/ConnectionLens...   \n",
       "\n",
       "                     Actual Anatomical/ Injection Site Secondary  \n",
       "Case ID      Channel                                              \n",
       "SW121221-02A 2                                               med  \n",
       "             4                                            center  \n",
       "SW121221-03A 2                                               med  \n",
       "             4                                               med  \n",
       "SW151215-03A 3                                               NaN  "
      ]
     },
     "execution_count": 69,
     "metadata": {},
     "output_type": "execute_result"
    }
   ],
   "source": [
    "# set case_id and channel multi index\n",
    "df = df.set_index(['Case ID', 'Channel'])\n",
    "# drop any duplicate multi index\n",
    "df = df.loc[~df.index.duplicated(), :]\n",
    "df.head() "
   ]
  },
  {
   "cell_type": "code",
   "execution_count": 70,
   "metadata": {},
   "outputs": [
    {
     "name": "stdout",
     "output_type": "stream",
     "text": [
      "<class 'pandas.core.frame.DataFrame'>\n",
      "MultiIndex: 100 entries, (SW121221-02A, 2) to (SW190619-04A, 4)\n",
      "Data columns (total 14 columns):\n",
      "Tracers                                        100 non-null object\n",
      "Cortex name with regional identifier           86 non-null object\n",
      "Actual Anatomical/ Injection Site              100 non-null object\n",
      "Layer (injection site)                         93 non-null object\n",
      "Injection Site center ARA level (c)            95 non-null object\n",
      "ML (X)                                         86 non-null float64\n",
      "AP (Y)                                         86 non-null float64\n",
      "DV (Z)                                         86 non-null float64\n",
      "Nissl Quality                                  5 non-null object\n",
      "Notes on SC labeling                           28 non-null object\n",
      "Case path (vsi files)                          92 non-null object\n",
      "Case Path (Thresholded Files)                  100 non-null object\n",
      "Case path (osp files)                          100 non-null object\n",
      "Actual Anatomical/ Injection Site Secondary    28 non-null object\n",
      "dtypes: float64(3), object(11)\n",
      "memory usage: 11.7+ KB\n"
     ]
    }
   ],
   "source": [
    "df.info()"
   ]
  },
  {
   "cell_type": "code",
   "execution_count": 71,
   "metadata": {},
   "outputs": [
    {
     "name": "stdout",
     "output_type": "stream",
     "text": [
      "total case number = 100\n",
      "number of cases with known tracer = 100\n",
      "number of cases with known injection site = 100\n"
     ]
    }
   ],
   "source": [
    "print('total case number = {}'.format(df.shape[0]))\n",
    "print('number of cases with known tracer = {}'.format(df.Tracers.count()))\n",
    "print('number of cases with known injection site = {}'.format(df['Actual Anatomical/ Injection Site'].count()))"
   ]
  },
  {
   "cell_type": "code",
   "execution_count": 72,
   "metadata": {},
   "outputs": [
    {
     "data": {
      "text/plain": [
       "<matplotlib.axes._subplots.AxesSubplot at 0x7f60f4fbaa10>"
      ]
     },
     "execution_count": 72,
     "metadata": {},
     "output_type": "execute_result"
    },
    {
     "data": {
      "image/png": "[encoded data removed]",
      "text/plain": [
       "<Figure size 1080x720 with 1 Axes>"
      ]
     },
     "metadata": {
      "needs_background": "light"
     },
     "output_type": "display_data"
    }
   ],
   "source": [
    "df['Actual Anatomical/ Injection Site'].value_counts().plot(kind='bar', figsize=(15, 10))"
   ]
  },
  {
   "cell_type": "code",
   "execution_count": 73,
   "metadata": {},
   "outputs": [
    {
     "data": {
      "text/plain": [
       "<matplotlib.axes._subplots.AxesSubplot at 0x7f60f50ca490>"
      ]
     },
     "execution_count": 73,
     "metadata": {},
     "output_type": "execute_result"
    },
    {
     "data": {
      "image/png": "[encoded data removed]",
      "text/plain": [
       "<Figure size 1080x720 with 1 Axes>"
      ]
     },
     "metadata": {
      "needs_background": "light"
     },
     "output_type": "display_data"
    }
   ],
   "source": [
    "df['Tracers'].value_counts().plot(kind='bar', figsize=(15, 10))"
   ]
  },
  {
   "cell_type": "code",
   "execution_count": 74,
   "metadata": {},
   "outputs": [
    {
     "data": {
      "text/html": [
       "<div>\n",
       "<style scoped>\n",
       "    .dataframe tbody tr th:only-of-type {\n",
       "        vertical-align: middle;\n",
       "    }\n",
       "\n",
       "    .dataframe tbody tr th {\n",
       "        vertical-align: top;\n",
       "    }\n",
       "\n",
       "    .dataframe thead th {\n",
       "        text-align: right;\n",
       "    }\n",
       "</style>\n",
       "<table border=\"1\" class=\"dataframe\">\n",
       "  <thead>\n",
       "    <tr style=\"text-align: right;\">\n",
       "      <th></th>\n",
       "      <th>Actual Anatomical/ Injection Site</th>\n",
       "      <th>Tracers</th>\n",
       "      <th>counts</th>\n",
       "    </tr>\n",
       "  </thead>\n",
       "  <tbody>\n",
       "    <tr>\n",
       "      <th>0</th>\n",
       "      <td>ACAd</td>\n",
       "      <td>aav-tdtomato</td>\n",
       "      <td>3</td>\n",
       "    </tr>\n",
       "    <tr>\n",
       "      <th>1</th>\n",
       "      <td>ACAd</td>\n",
       "      <td>phal-647</td>\n",
       "      <td>3</td>\n",
       "    </tr>\n",
       "    <tr>\n",
       "      <th>2</th>\n",
       "      <td>ACAv</td>\n",
       "      <td>phal-488</td>\n",
       "      <td>2</td>\n",
       "    </tr>\n",
       "    <tr>\n",
       "      <th>3</th>\n",
       "      <td>ACAv</td>\n",
       "      <td>aav-tdtomato</td>\n",
       "      <td>1</td>\n",
       "    </tr>\n",
       "    <tr>\n",
       "      <th>4</th>\n",
       "      <td>ACAv</td>\n",
       "      <td>phal-647</td>\n",
       "      <td>1</td>\n",
       "    </tr>\n",
       "    <tr>\n",
       "      <th>...</th>\n",
       "      <td>...</td>\n",
       "      <td>...</td>\n",
       "      <td>...</td>\n",
       "    </tr>\n",
       "    <tr>\n",
       "      <th>63</th>\n",
       "      <td>VISp</td>\n",
       "      <td>bda</td>\n",
       "      <td>2</td>\n",
       "    </tr>\n",
       "    <tr>\n",
       "      <th>64</th>\n",
       "      <td>VISp</td>\n",
       "      <td>phal-488</td>\n",
       "      <td>2</td>\n",
       "    </tr>\n",
       "    <tr>\n",
       "      <th>65</th>\n",
       "      <td>VISp</td>\n",
       "      <td>aav-tdtomato</td>\n",
       "      <td>1</td>\n",
       "    </tr>\n",
       "    <tr>\n",
       "      <th>66</th>\n",
       "      <td>VISp</td>\n",
       "      <td>phal-647</td>\n",
       "      <td>1</td>\n",
       "    </tr>\n",
       "    <tr>\n",
       "      <th>67</th>\n",
       "      <td>VISpm</td>\n",
       "      <td>aav-tdtomato</td>\n",
       "      <td>1</td>\n",
       "    </tr>\n",
       "  </tbody>\n",
       "</table>\n",
       "<p>68 rows × 3 columns</p>\n",
       "</div>"
      ],
      "text/plain": [
       "   Actual Anatomical/ Injection Site       Tracers  counts\n",
       "0                               ACAd  aav-tdtomato       3\n",
       "1                               ACAd      phal-647       3\n",
       "2                               ACAv      phal-488       2\n",
       "3                               ACAv  aav-tdtomato       1\n",
       "4                               ACAv      phal-647       1\n",
       "..                               ...           ...     ...\n",
       "63                              VISp           bda       2\n",
       "64                              VISp      phal-488       2\n",
       "65                              VISp  aav-tdtomato       1\n",
       "66                              VISp      phal-647       1\n",
       "67                             VISpm  aav-tdtomato       1\n",
       "\n",
       "[68 rows x 3 columns]"
      ]
     },
     "execution_count": 74,
     "metadata": {},
     "output_type": "execute_result"
    }
   ],
   "source": [
    "df_injection_tracer = df.groupby('Actual Anatomical/ Injection Site')['Tracers'].value_counts().rename('counts').reset_index()\n",
    "df_injection_tracer"
   ]
  },
  {
   "cell_type": "code",
   "execution_count": 75,
   "metadata": {},
   "outputs": [
    {
     "data": {
      "text/plain": [
       "<matplotlib.axes._subplots.AxesSubplot at 0x7f60f4e4a9d0>"
      ]
     },
     "execution_count": 75,
     "metadata": {},
     "output_type": "execute_result"
    },
    {
     "data": {
      "image/png": "[encoded data removed]",
      "text/plain": [
       "<Figure size 1440x4320 with 1 Axes>"
      ]
     },
     "metadata": {
      "needs_background": "light"
     },
     "output_type": "display_data"
    }
   ],
   "source": [
    "fig, ax = plt.subplots(figsize=(20, 60))\n",
    "sns.barplot(y='Actual Anatomical/ Injection Site', x='counts', hue='Tracers', \n",
    "            hue_order=['aav-tdtomato', 'aav-gfp', 'phal-647', 'phal-488', 'phal', 'bda'], data=df_injection_tracer, ax=ax)"
   ]
  },
  {
   "cell_type": "code",
   "execution_count": null,
   "metadata": {},
   "outputs": [],
   "source": [
    "# what does asterisk at end of case id mean: cases with both contralateral and ipsilateral labeling has an asterisk (Nora)\n",
    "# ML, AP, DV columns: actual injection coordinate (Nora)\n",
    "# diff between Cortex name with regional identifier and Actual Anatomical/ Injection Site\n",
    "# foot note section: On iConnectome, OTHER, include?\n",
    "# tally in foot note section: not same as above"
   ]
  },
  {
   "cell_type": "code",
   "execution_count": 76,
   "metadata": {},
   "outputs": [],
   "source": [
    "# save cleaned dataframe\n",
    "df.to_csv('ctx_sc_cases_clean.csv')"
   ]
  },
  {
   "cell_type": "code",
   "execution_count": null,
   "metadata": {},
   "outputs": [],
   "source": []
  }
 ],
 "metadata": {
  "kernelspec": {
   "display_name": "Python 3",
   "language": "python",
   "name": "python3"
  },
  "language_info": {
   "codemirror_mode": {
    "name": "ipython",
    "version": 3
   },
   "file_extension": ".py",
   "mimetype": "text/x-python",
   "name": "python",
   "nbconvert_exporter": "python",
   "pygments_lexer": "ipython3",
   "version": "3.7.6"
  }
 },
 "nbformat": 4,
 "nbformat_minor": 4
}
