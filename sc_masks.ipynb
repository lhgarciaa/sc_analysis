{
 "cells": [
  {
   "cell_type": "code",
   "execution_count": 22,
   "metadata": {},
   "outputs": [],
   "source": [
    "import os\n",
    "import numpy as np\n",
    "import cv2\n",
    "from translate_colors import TranslateColors\n",
    "from sc_util import sc_levels, sc_codecs"
   ]
  },
  {
   "cell_type": "code",
   "execution_count": null,
   "metadata": {},
   "outputs": [],
   "source": [
    "# all sc regions:\n",
    "# '254:121:255': 'Scig_b' (this regions is same as SCM_ig-b, should fix the double naming and coloring),\n",
    "# '254:132:253': 'SCs_zo', '254:132:254': 'SCs_sg', '254:132:255': 'SCs_op',\n",
    "# '254:133:249': 'SCm_dw', '254:133:250': 'SCm_ig', '254:133:251': 'SCM_ig-c',\n",
    "# '254:133:252': 'SCM_ig-b', '254:133:253': 'SCM_ig-a', '254:133:254': 'SCm_iw',\n",
    "# '254:133:255': 'SCm_dg'"
   ]
  },
  {
   "cell_type": "code",
   "execution_count": 23,
   "metadata": {},
   "outputs": [],
   "source": [
    "codec = TranslateColors()\n",
    "sc_indices = [TranslateColors.colorstring_to_index(sc_codec) for sc_codec in sc_codecs]"
   ]
  },
  {
   "cell_type": "code",
   "execution_count": 21,
   "metadata": {},
   "outputs": [],
   "source": [
    "os.makedirs('sc_masks', exist_ok=True)\n",
    "for sc_level in sc_levels:\n",
    "    atlas_tiff_name = 'ARA-Coronal-{}_full_labels-01-append.tif'.format(str(sc_level).zfill(3))\n",
    "    atlas = cv2.imread('sc_atlas/{}'.format(atlas_tiff_name), -1)\n",
    "    atlas = TranslateColors.rgbatlas_to_indexatlas(atlas)\n",
    "    mask = np.zeros(shape=atlas.shape, dtype=np.uint8)\n",
    "    # only right sc regions are white\n",
    "    mask[np.isin(atlas, sc_indices)] = 255\n",
    "    mask[:, 0: mask.shape[1] // 2] = 0\n",
    "    cv2.imwrite('sc_masks/sc_mask_{}.tif'.format(str(sc_level).zfill(3)), mask)"
   ]
  }
 ],
 "metadata": {
  "kernelspec": {
   "display_name": "Python 3",
   "language": "python",
   "name": "python3"
  },
  "language_info": {
   "codemirror_mode": {
    "name": "ipython",
    "version": 3
   },
   "file_extension": ".py",
   "mimetype": "text/x-python",
   "name": "python",
   "nbconvert_exporter": "python",
   "pygments_lexer": "ipython3",
   "version": "3.7.6"
  }
 },
 "nbformat": 4,
 "nbformat_minor": 4
}
