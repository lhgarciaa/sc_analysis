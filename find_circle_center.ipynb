{
 "cells": [
  {
   "cell_type": "code",
   "execution_count": 36,
   "metadata": {},
   "outputs": [],
   "source": [
    "import json\n",
    "import numpy as np\n",
    "import scipy.ndimage as ndi\n",
    "import cv2\n",
    "from sc_util import sc_levels"
   ]
  },
  {
   "cell_type": "code",
   "execution_count": 39,
   "metadata": {},
   "outputs": [
    {
     "name": "stdout",
     "output_type": "stream",
     "text": [
      "83 8284.35 7355.5\n",
      "84 7009.247 7355.5\n",
      "85 6244.1304 7355.5\n",
      "86 6340.7983 7355.5\n",
      "87 6775.222 7355.5\n",
      "88 5530.415 7355.5\n",
      "89 7320.715 7355.5\n",
      "90 6444.2007 7355.5\n",
      "91 5173.589 7355.5\n",
      "92 5398.0317 7355.5\n",
      "93 5659.3535 7355.5\n",
      "94 5454.3955 7355.5\n",
      "95 6035.069 7355.5\n",
      "96 6401.474 7355.5\n",
      "97 6158.5103 7355.5\n",
      "98 5336.4507 7355.5\n",
      "99 5288.833 7355.5\n",
      "100 4961.271 7355.5\n",
      "101 5383.8955 7355.5\n",
      "102 7625.6035 7355.5\n",
      "103 5900.6875 7355.5\n",
      "104 6207.4336 7355.5\n"
     ]
    }
   ],
   "source": [
    "sc_circle_centers = {}\n",
    "for sc_level in sc_levels:\n",
    "    # fit line to lateral radial boundary of SC\n",
    "    contour = cv2.imread('sc_contours_partial/sc_contour_partial_{}.tif'.format(str(sc_level).zfill(3)), 0)\n",
    "    pts = np.array(np.where(contour > 0))\n",
    "    pts[[0, 1]] = pts[[1, 0]]\n",
    "    # all numbers returned as shape (1,) array\n",
    "    vx, vy, x0, y0 = cv2.fitLine(np.transpose(pts), cv2.DIST_L2, 0, 0.01, 0.01)\n",
    "    # calculate circle center coordinate as intersection between fitted line and midline\n",
    "    slope = vy / vx\n",
    "    intercept = y0 - slope * x0\n",
    "    x_center = 14711 / 2\n",
    "    y_center = (slope * x_center + intercept)[0]\n",
    "    print(sc_level, y_center, x_center)\n",
    "    sc_circle_centers[sc_level] = [float(y_center), float(x_center)]    "
   ]
  },
  {
   "cell_type": "code",
   "execution_count": 40,
   "metadata": {},
   "outputs": [],
   "source": [
    "with open('sc_circle_centers.json', 'w') as f:\n",
    "    json.dump(sc_circle_centers, f)"
   ]
  },
  {
   "cell_type": "code",
   "execution_count": null,
   "metadata": {},
   "outputs": [],
   "source": []
  }
 ],
 "metadata": {
  "kernelspec": {
   "display_name": "Python 3",
   "language": "python",
   "name": "python3"
  },
  "language_info": {
   "codemirror_mode": {
    "name": "ipython",
    "version": 3
   },
   "file_extension": ".py",
   "mimetype": "text/x-python",
   "name": "python",
   "nbconvert_exporter": "python",
   "pygments_lexer": "ipython3",
   "version": "3.7.6"
  }
 },
 "nbformat": 4,
 "nbformat_minor": 4
}
