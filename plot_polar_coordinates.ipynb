{
 "cells": [
  {
   "cell_type": "code",
   "execution_count": 77,
   "metadata": {},
   "outputs": [],
   "source": [
    "import os\n",
    "import numpy as np\n",
    "import pandas as pd\n",
    "import matplotlib.pyplot as plt\n",
    "import seaborn as sns\n",
    "from sc_util import sc_levels, plots_out_dir\n",
    "from parse_case_sheet import get_clean_df"
   ]
  },
  {
   "cell_type": "code",
   "execution_count": 3,
   "metadata": {},
   "outputs": [],
   "source": [
    "coarse_injection_site_mapping = {\n",
    "    'VISp': 'VIS',  'PTLp': 'PTL', 'VISal': 'VIS', 'VISam': 'VIS', \n",
    "    'VISl': 'VIS',  'SSp-tr': 'SSp', 'ACAd': 'ACA', 'RSPv': 'RSP', \n",
    "    'ACAv': 'ACA', 'RSPagl': 'RSP', 'VISpm': 'VIS', 'RSPd': 'RSP',  \n",
    "    'MOp': 'MO', 'ORBl': 'ORB', 'MOs': 'MO', 'SSp-ul': 'SSp', 'PL': 'PL', \n",
    "    'ORBvl': 'ORB', 'ORBm': 'ORB', 'SSp-ll': 'SSp', 'SSp-m': 'SSp', \n",
    "    'SSp-bfd': 'SSp', 'SSp-n': 'SSp', 'SSs': 'SSs', 'AUDd': 'AUD', 'AUDp': 'AUD', 'AUDv': 'AUD', \n",
    "    'TEa': 'TE', 'ILA': 'ILA', 'SNr': 'SN', 'SNr/SNc': 'SN', 'SC2': 'SC',\n",
    "    'SC3': 'SC', 'SC1': 'SC', 'SC4': 'SC', 'SC3/PAG': 'SC', 'SC.l': 'SC', 'SC.cl/': 'SC', 'SC.cl': 'SC',\n",
    "    'SC.cm': 'SC', 'SC.m': 'SC'\n",
    "}"
   ]
  },
  {
   "cell_type": "code",
   "execution_count": 75,
   "metadata": {},
   "outputs": [],
   "source": [
    "def get_polar_coordinates(ara_level):\n",
    "    df_clean = get_clean_df()\n",
    "    csv_path = 'polar_coordinates/polar_coordinates_ara_{}.csv'.format(str(ara_level).zfill(3))\n",
    "    if not os.path.isfile(csv_path):\n",
    "        return None\n",
    "    df_polar = pd.read_csv(csv_path, index_col=0)\n",
    "    df_polar = df_polar.rename(columns={ 'case': 'Case ID', 'channel': 'Channel' })\n",
    "    # to same type as 'Channel' of df_clean\n",
    "    df_polar['Channel'] = df_polar['Channel'].astype(str)\n",
    "    # convert from radians to degrees\n",
    "    df_polar['theta'] = df_polar['theta'] * (180 / np.pi)\n",
    "    df_polar = df_polar.merge(df_clean[['Tracers', 'Cortex name with regional identifier', \n",
    "                                        'Actual Anatomical/ Injection Site Primary', 'Actual Anatomical/ Injection Site']], \n",
    "                              how='left', on=['Case ID', 'Channel'])\n",
    "    return df_polar"
   ]
  },
  {
   "cell_type": "code",
   "execution_count": 58,
   "metadata": {},
   "outputs": [],
   "source": [
    "def set_plot_ax(ax, title):\n",
    "    # flip x axis to have descending xticks    \n",
    "    ax.set_xlim(ax.get_xlim()[1], ax.get_xlim()[0])    \n",
    "    ax.legend()   \n",
    "    _ = ax.set_title(title)    "
   ]
  },
  {
   "cell_type": "code",
   "execution_count": 76,
   "metadata": {},
   "outputs": [],
   "source": [
    "primary_injection_sites = ['RSPv', 'VISp', 'ACAd', 'MOp', 'SSp-tr', 'SSp-ul', 'SSp-bfd', 'SSp-m', 'SSp-ll', 'SSp-n']\n",
    "\n",
    "def plot_polar_coordinates(ara_level):\n",
    "    df_polar = get_polar_coordinates(ara_level)\n",
    "    if df_polar is None:\n",
    "        return\n",
    "    df_polar_primary_injection_sites = {}\n",
    "    for primary_injection_site in primary_injection_sites:\n",
    "        df_polar_primary_injection_sites[primary_injection_site] = df_polar.loc[df_polar['Actual Anatomical/ Injection Site Primary'] == primary_injection_site, :]\n",
    "    # plot all cases from primary injection sites\n",
    "    fig, ax = plt.subplots(figsize=(20, 10))\n",
    "    for primary_injection_site, df_polar_primary_injection_site in df_polar_primary_injection_sites.items():\n",
    "        sns.distplot(df_polar_primary_injection_site['theta'], hist=False, label=primary_injection_site, ax=ax)\n",
    "    title = 'all_cases_RSPv_VISp_ACAd_MOp_SSp_ARA_{}'.format(str(ara_level).zfill(3))\n",
    "    set_plot_ax(ax, title)  \n",
    "    plt.savefig(os.path.join(plots_out_dir(), '{}.png'.format(title)))\n",
    "    # plot individual cases for each primary injection site\n",
    "    df_clean = get_clean_df()\n",
    "    for primary_injection_site, df_polar_primary_injection_site in df_polar_primary_injection_sites.items():\n",
    "        fig, ax = plt.subplots(figsize=(20, 10))\n",
    "        # unique case id and channel combination for rows with primary_injection_site\n",
    "        df_case_channel = df_polar_primary_injection_site[['Case ID', 'Channel']].drop_duplicates()\n",
    "        # (case_id, channel) tuple\n",
    "        case_id_channels = list(zip(df_case_channel['Case ID'], df_case_channel['Channel']))\n",
    "        for case_id_channel in case_id_channels:\n",
    "            case_id, channel = case_id_channel\n",
    "            cortex_name = df_clean.loc[case_id_channel, 'Cortex name with regional identifier']\n",
    "            selection = (df_polar_primary_injection_site['Case ID'] == case_id) & (df_polar_primary_injection_site['Channel'] == channel)\n",
    "            sns.distplot(df_polar_primary_injection_site.loc[selection, 'theta'], hist=False, label='{}_ch{}_{}'.format(case_id, channel, cortex_name), ax=ax)\n",
    "        title = 'individual_cases_{}_ara_{}'.format(primary_injection_site, str(ara_level).zfill(3))    \n",
    "        set_plot_ax(ax, title)  \n",
    "        plt.savefig(os.path.join(plots_out_dir(), '{}.png'.format(title)))"
   ]
  },
  {
   "cell_type": "code",
   "execution_count": null,
   "metadata": {},
   "outputs": [],
   "source": [
    "for sc_level in sc_levels:\n",
    "    plot_polar_coordinates(sc_level)"
   ]
  }
 ],
 "metadata": {
  "kernelspec": {
   "display_name": "Python 3",
   "language": "python",
   "name": "python3"
  },
  "language_info": {
   "codemirror_mode": {
    "name": "ipython",
    "version": 3
   },
   "file_extension": ".py",
   "mimetype": "text/x-python",
   "name": "python",
   "nbconvert_exporter": "python",
   "pygments_lexer": "ipython3",
   "version": "3.7.6"
  }
 },
 "nbformat": 4,
 "nbformat_minor": 4
}
